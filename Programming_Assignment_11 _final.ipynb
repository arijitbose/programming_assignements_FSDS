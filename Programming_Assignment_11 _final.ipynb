{
 "cells": [
  {
   "cell_type": "code",
   "execution_count": 1,
   "id": "5ecd39cc",
   "metadata": {},
   "outputs": [],
   "source": [
    "#1.Write a Python program to find words which are greater than given length k?"
   ]
  },
  {
   "cell_type": "code",
   "execution_count": 14,
   "id": "e0db02cc",
   "metadata": {},
   "outputs": [],
   "source": [
    "def greater_k(str,k):\n",
    "    a=len(list(str))\n",
    "    if(a>k):\n",
    "        return \"Input word is greater than length {}\".format(k)\n",
    "    return \"Input word is not greater than length {}\".format(k)\n",
    "    "
   ]
  },
  {
   "cell_type": "code",
   "execution_count": 15,
   "id": "b4eb3095",
   "metadata": {},
   "outputs": [
    {
     "data": {
      "text/plain": [
       "'Input word is not greater than length 7'"
      ]
     },
     "execution_count": 15,
     "metadata": {},
     "output_type": "execute_result"
    }
   ],
   "source": [
    "greater_k('arijit',7)"
   ]
  },
  {
   "cell_type": "code",
   "execution_count": 17,
   "id": "32bb6214",
   "metadata": {},
   "outputs": [
    {
     "data": {
      "text/plain": [
       "'Input word is greater than length 1'"
      ]
     },
     "execution_count": 17,
     "metadata": {},
     "output_type": "execute_result"
    }
   ],
   "source": [
    "greater_k('bose',1)"
   ]
  },
  {
   "cell_type": "code",
   "execution_count": 18,
   "id": "9c868365",
   "metadata": {},
   "outputs": [],
   "source": [
    "#2.Write a Python program for removing i-th character from a string?"
   ]
  },
  {
   "cell_type": "code",
   "execution_count": 27,
   "id": "7325f8ce",
   "metadata": {},
   "outputs": [],
   "source": [
    "def remove_ith(str,i):\n",
    "    a=list(str)\n",
    "    b=len(a)\n",
    "    for character in a:\n",
    "        if(a.index(character)==i):\n",
    "            new_str = str.replace(character, \"\")\n",
    "            return new_str\n",
    "    return \"character not found\"\n",
    "            "
   ]
  },
  {
   "cell_type": "code",
   "execution_count": 28,
   "id": "dd4dced4",
   "metadata": {},
   "outputs": [
    {
     "data": {
      "text/plain": [
       "'ariit'"
      ]
     },
     "execution_count": 28,
     "metadata": {},
     "output_type": "execute_result"
    }
   ],
   "source": [
    "remove_ith(\"arijit\",3)"
   ]
  },
  {
   "cell_type": "code",
   "execution_count": 29,
   "id": "acaed915",
   "metadata": {},
   "outputs": [
    {
     "data": {
      "text/plain": [
       "'aijit'"
      ]
     },
     "execution_count": 29,
     "metadata": {},
     "output_type": "execute_result"
    }
   ],
   "source": [
    "remove_ith(\"arijit\",1)"
   ]
  },
  {
   "cell_type": "code",
   "execution_count": 30,
   "id": "d0b06518",
   "metadata": {},
   "outputs": [
    {
     "data": {
      "text/plain": [
       "'character not found'"
      ]
     },
     "execution_count": 30,
     "metadata": {},
     "output_type": "execute_result"
    }
   ],
   "source": [
    "remove_ith(\"arijit\",10)"
   ]
  },
  {
   "cell_type": "code",
   "execution_count": 31,
   "id": "8f257753",
   "metadata": {},
   "outputs": [],
   "source": [
    "#3.Write a Python program to split and join a string?"
   ]
  },
  {
   "cell_type": "code",
   "execution_count": 34,
   "id": "a9f8e9e6",
   "metadata": {},
   "outputs": [],
   "source": [
    "def split_str(str):\n",
    "    return str.split(\" \")"
   ]
  },
  {
   "cell_type": "code",
   "execution_count": 35,
   "id": "cdfa19a9",
   "metadata": {},
   "outputs": [
    {
     "data": {
      "text/plain": [
       "['Arijit', 'Bose']"
      ]
     },
     "execution_count": 35,
     "metadata": {},
     "output_type": "execute_result"
    }
   ],
   "source": [
    "split_str(\"Arijit Bose\")"
   ]
  },
  {
   "cell_type": "code",
   "execution_count": 38,
   "id": "5cfd0b64",
   "metadata": {},
   "outputs": [],
   "source": [
    "def join_str(str):\n",
    "    return \" \".join(str)"
   ]
  },
  {
   "cell_type": "code",
   "execution_count": 39,
   "id": "b37faec9",
   "metadata": {},
   "outputs": [
    {
     "data": {
      "text/plain": [
       "'A r i j i t   B o s e'"
      ]
     },
     "execution_count": 39,
     "metadata": {},
     "output_type": "execute_result"
    }
   ],
   "source": [
    "join_str(\"Arijit Bose\")"
   ]
  },
  {
   "cell_type": "code",
   "execution_count": 40,
   "id": "8d3d9153",
   "metadata": {},
   "outputs": [],
   "source": [
    "#4.Write a Python to check if a given string is binary string or not?"
   ]
  },
  {
   "cell_type": "code",
   "execution_count": 83,
   "id": "1501fb0f",
   "metadata": {},
   "outputs": [],
   "source": [
    "def is_binary(str):\n",
    "    try:\n",
    "        a=list(str)\n",
    "        b=\"\".join(a)\n",
    "        value = int(b, 2)\n",
    "        if(type(value)==int):\n",
    "            print(value)\n",
    "            return \"given string is binary string\"            \n",
    "        \n",
    "    except ValueError as e:\n",
    "        print(e)\n",
    "        return \"given string is not binary string\"\n",
    "\n",
    "\n",
    "    "
   ]
  },
  {
   "cell_type": "code",
   "execution_count": 84,
   "id": "d511d488",
   "metadata": {},
   "outputs": [
    {
     "name": "stdout",
     "output_type": "stream",
     "text": [
      "5\n"
     ]
    },
    {
     "data": {
      "text/plain": [
       "'given string is binary string'"
      ]
     },
     "execution_count": 84,
     "metadata": {},
     "output_type": "execute_result"
    }
   ],
   "source": [
    "is_binary('0b101')"
   ]
  },
  {
   "cell_type": "code",
   "execution_count": 87,
   "id": "1df2d496",
   "metadata": {},
   "outputs": [
    {
     "name": "stdout",
     "output_type": "stream",
     "text": [
      "23\n"
     ]
    },
    {
     "data": {
      "text/plain": [
       "'given string is binary string'"
      ]
     },
     "execution_count": 87,
     "metadata": {},
     "output_type": "execute_result"
    }
   ],
   "source": [
    "is_binary('10111')"
   ]
  },
  {
   "cell_type": "code",
   "execution_count": 85,
   "id": "3762a197",
   "metadata": {},
   "outputs": [
    {
     "name": "stdout",
     "output_type": "stream",
     "text": [
      "invalid literal for int() with base 2: '0c101d'\n"
     ]
    },
    {
     "data": {
      "text/plain": [
       "'given string is not binary string'"
      ]
     },
     "execution_count": 85,
     "metadata": {},
     "output_type": "execute_result"
    }
   ],
   "source": [
    "is_binary('0c101d')"
   ]
  },
  {
   "cell_type": "code",
   "execution_count": 88,
   "id": "2b9d5f4f",
   "metadata": {},
   "outputs": [],
   "source": [
    "#5.Write a Python program to find uncommon words from two Strings?"
   ]
  },
  {
   "cell_type": "code",
   "execution_count": 195,
   "id": "db885a51",
   "metadata": {},
   "outputs": [],
   "source": [
    "def uncommon(str1,str2):\n",
    "    a=str1.split()\n",
    "    b=str2.split()\n",
    "    c=len(a)\n",
    "    d=len(b)\n",
    "    for i in a:\n",
    "        for j in b:\n",
    "            if(i!=j):\n",
    "                print(i)\n",
    "           \n",
    "    "
   ]
  },
  {
   "cell_type": "code",
   "execution_count": 196,
   "id": "9921fbd4",
   "metadata": {},
   "outputs": [
    {
     "name": "stdout",
     "output_type": "stream",
     "text": [
      "Bose\n"
     ]
    }
   ],
   "source": [
    "uncommon(\"Arijit Bose\",\"Arijit\")"
   ]
  },
  {
   "cell_type": "code",
   "execution_count": 197,
   "id": "5c77b835",
   "metadata": {},
   "outputs": [
    {
     "name": "stdout",
     "output_type": "stream",
     "text": [
      "Bose\n"
     ]
    }
   ],
   "source": [
    "uncommon(\"Arijit Bose\",\"Arijit\")"
   ]
  },
  {
   "cell_type": "code",
   "execution_count": 139,
   "id": "07643778",
   "metadata": {},
   "outputs": [],
   "source": [
    "#6.Write a Python to find all duplicate characters in string?"
   ]
  },
  {
   "cell_type": "code",
   "execution_count": 150,
   "id": "c55ef168",
   "metadata": {},
   "outputs": [],
   "source": [
    "def duplicate(str):\n",
    "    a=list(str)\n",
    "    b=set([element for element in a if a.count(element)>=2])\n",
    "    return b\n",
    "\n",
    "        "
   ]
  },
  {
   "cell_type": "code",
   "execution_count": 153,
   "id": "54679a34",
   "metadata": {},
   "outputs": [
    {
     "data": {
      "text/plain": [
       "{'i'}"
      ]
     },
     "execution_count": 153,
     "metadata": {},
     "output_type": "execute_result"
    }
   ],
   "source": [
    "duplicate('Arijit')"
   ]
  },
  {
   "cell_type": "code",
   "execution_count": 154,
   "id": "35a6a71f",
   "metadata": {},
   "outputs": [
    {
     "data": {
      "text/plain": [
       "{'A', 'i', 'j', 'r', 't'}"
      ]
     },
     "execution_count": 154,
     "metadata": {},
     "output_type": "execute_result"
    }
   ],
   "source": [
    "duplicate('Arijit Arijit')"
   ]
  },
  {
   "cell_type": "code",
   "execution_count": 156,
   "id": "f46f8ac3",
   "metadata": {},
   "outputs": [],
   "source": [
    "#7.Write a Python Program to check if a string contains any special character?"
   ]
  },
  {
   "cell_type": "code",
   "execution_count": 192,
   "id": "4cdeff86",
   "metadata": {},
   "outputs": [],
   "source": [
    "import re\n",
    "\n",
    "def check_special_characer(str):\n",
    "    regex= re.compile('[@_!#$%^&*()<>?/\\\\\\|}{~:[\\]]')\n",
    "    if(regex.search(str) == None):\n",
    "        res = \"String does not contain special character\"\n",
    "    else: \n",
    "        res = \"String does contain special character\"\n",
    "    return res\n",
    "\n"
   ]
  },
  {
   "cell_type": "code",
   "execution_count": 193,
   "id": "4316ce16",
   "metadata": {},
   "outputs": [
    {
     "data": {
      "text/plain": [
       "'String does not contain special character'"
      ]
     },
     "execution_count": 193,
     "metadata": {},
     "output_type": "execute_result"
    }
   ],
   "source": [
    "check_special_characer(\"Arijit\")"
   ]
  },
  {
   "cell_type": "code",
   "execution_count": 194,
   "id": "8d1b6f5e",
   "metadata": {},
   "outputs": [
    {
     "data": {
      "text/plain": [
       "'String does contain special character'"
      ]
     },
     "execution_count": 194,
     "metadata": {},
     "output_type": "execute_result"
    }
   ],
   "source": [
    "check_special_characer(\"Arijit!\")"
   ]
  }
 ],
 "metadata": {
  "kernelspec": {
   "display_name": "Python 3 (ipykernel)",
   "language": "python",
   "name": "python3"
  },
  "language_info": {
   "codemirror_mode": {
    "name": "ipython",
    "version": 3
   },
   "file_extension": ".py",
   "mimetype": "text/x-python",
   "name": "python",
   "nbconvert_exporter": "python",
   "pygments_lexer": "ipython3",
   "version": "3.10.4"
  }
 },
 "nbformat": 4,
 "nbformat_minor": 5
}
