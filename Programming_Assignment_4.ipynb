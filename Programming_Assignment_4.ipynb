{
 "cells": [
  {
   "cell_type": "code",
   "execution_count": 1,
   "id": "61258ada",
   "metadata": {},
   "outputs": [],
   "source": [
    "#1.Write a Python Program to Find the Factorial of a Number?"
   ]
  },
  {
   "cell_type": "code",
   "execution_count": 10,
   "id": "2223dc9c",
   "metadata": {},
   "outputs": [],
   "source": [
    "def factorial(n):\n",
    "    if(n==0 or n==1):\n",
    "        return 1\n",
    "    else:            \n",
    "        return n*factorial(n-1)"
   ]
  },
  {
   "cell_type": "code",
   "execution_count": 15,
   "id": "d171e7d2",
   "metadata": {},
   "outputs": [
    {
     "data": {
      "text/plain": [
       "120"
      ]
     },
     "execution_count": 15,
     "metadata": {},
     "output_type": "execute_result"
    }
   ],
   "source": [
    "factorial(5)"
   ]
  },
  {
   "cell_type": "code",
   "execution_count": 16,
   "id": "7b75ec1a",
   "metadata": {},
   "outputs": [],
   "source": [
    "#2.Write a Python Program to Display the multiplication Table?"
   ]
  },
  {
   "cell_type": "code",
   "execution_count": 28,
   "id": "11e02c11",
   "metadata": {},
   "outputs": [
    {
     "name": "stdout",
     "output_type": "stream",
     "text": [
      "Enter a number, whose multiplication table you want:9\n",
      "9 x 1= 9\n",
      "9 x 2= 18\n",
      "9 x 3= 27\n",
      "9 x 4= 36\n",
      "9 x 5= 45\n",
      "9 x 6= 54\n",
      "9 x 7= 63\n",
      "9 x 8= 72\n",
      "9 x 9= 81\n",
      "9 x 10= 90\n"
     ]
    }
   ],
   "source": [
    "a=int(input(\"Enter a number, whose multiplication table you want:\"))\n",
    "b=[i for i in range(1,11)]\n",
    "for element in b:\n",
    "    print(\"{} x {}=\".format(a,element),a*element)"
   ]
  },
  {
   "cell_type": "code",
   "execution_count": 29,
   "id": "5adacd22",
   "metadata": {},
   "outputs": [],
   "source": [
    "#3.Write a Python Program to Print the Fibonacci sequence?"
   ]
  },
  {
   "cell_type": "code",
   "execution_count": 36,
   "id": "7c86449c",
   "metadata": {},
   "outputs": [
    {
     "name": "stdout",
     "output_type": "stream",
     "text": [
      "Fibonacci Series: 0 1 1\n",
      "2\n",
      "3\n",
      "5\n",
      "8\n",
      "13\n",
      "21\n",
      "34\n",
      "55\n",
      "89\n",
      "144\n",
      "233\n",
      "377\n",
      "610\n",
      "987\n",
      "1597\n",
      "2584\n",
      "4181\n"
     ]
    }
   ],
   "source": [
    "num = 20\n",
    "x, y = 0, 1\n",
    "print(\"Fibonacci Series:\", x, y, end=\" \")\n",
    "for i in range(2, num):\n",
    "    z = x  + y\n",
    "    x=y\n",
    "    y=z \n",
    "    print(z)\n",
    "\n"
   ]
  },
  {
   "cell_type": "code",
   "execution_count": 105,
   "id": "a94d8a5a",
   "metadata": {},
   "outputs": [],
   "source": [
    "#4.\tWrite a Python Program to Check Armstrong Number?\n",
    "def armstrong(n):\n",
    "    a= str(n)\n",
    "    mylist=[]\n",
    "    for i in a:\n",
    "        mylist.append(int(i))\n",
    "    c=len(mylist)\n",
    "    mylist_sum=[]\n",
    "    for j in mylist:\n",
    "        mylist_sum.append(j**c)\n",
    "    d=sum(mylist_sum) \n",
    "    if(d==n):\n",
    "        return True\n",
    "    else:\n",
    "        return False\n",
    "    "
   ]
  },
  {
   "cell_type": "code",
   "execution_count": 106,
   "id": "64239fb9",
   "metadata": {},
   "outputs": [
    {
     "data": {
      "text/plain": [
       "True"
      ]
     },
     "execution_count": 106,
     "metadata": {},
     "output_type": "execute_result"
    }
   ],
   "source": [
    "armstrong(371)"
   ]
  },
  {
   "cell_type": "code",
   "execution_count": 107,
   "id": "c14e63fc",
   "metadata": {},
   "outputs": [
    {
     "data": {
      "text/plain": [
       "False"
      ]
     },
     "execution_count": 107,
     "metadata": {},
     "output_type": "execute_result"
    }
   ],
   "source": [
    "armstrong(11)"
   ]
  },
  {
   "cell_type": "code",
   "execution_count": 109,
   "id": "248a82cf",
   "metadata": {},
   "outputs": [
    {
     "data": {
      "text/plain": [
       "True"
      ]
     },
     "execution_count": 109,
     "metadata": {},
     "output_type": "execute_result"
    }
   ],
   "source": [
    "armstrong(153)"
   ]
  },
  {
   "cell_type": "code",
   "execution_count": 110,
   "id": "b66d9f2e",
   "metadata": {},
   "outputs": [
    {
     "data": {
      "text/plain": [
       "True"
      ]
     },
     "execution_count": 110,
     "metadata": {},
     "output_type": "execute_result"
    }
   ],
   "source": [
    "armstrong(0)"
   ]
  },
  {
   "cell_type": "code",
   "execution_count": 54,
   "id": "e76477a3",
   "metadata": {},
   "outputs": [],
   "source": [
    "#5.Write a Python Program to Find Armstrong Number in an Interval?"
   ]
  },
  {
   "cell_type": "code",
   "execution_count": 114,
   "id": "b1187b8c",
   "metadata": {},
   "outputs": [],
   "source": [
    "a=150\n",
    "b=165\n",
    "def armstrong_interval(a,b):\n",
    "    c=[i for i in range(a,b+1) if armstrong(i)==True]\n",
    "    return c"
   ]
  },
  {
   "cell_type": "code",
   "execution_count": 115,
   "id": "3b61afd4",
   "metadata": {},
   "outputs": [
    {
     "data": {
      "text/plain": [
       "[153]"
      ]
     },
     "execution_count": 115,
     "metadata": {},
     "output_type": "execute_result"
    }
   ],
   "source": [
    "armstrong_interval(a,b)"
   ]
  },
  {
   "cell_type": "code",
   "execution_count": 118,
   "id": "8755c849",
   "metadata": {},
   "outputs": [],
   "source": [
    "#6.Write a Python Program to Find the Sum of Natural Numbers?\n"
   ]
  },
  {
   "cell_type": "code",
   "execution_count": 116,
   "id": "66a7d090",
   "metadata": {},
   "outputs": [],
   "source": [
    "def sum(n):\n",
    "    return n*(n+1)/2"
   ]
  },
  {
   "cell_type": "code",
   "execution_count": 117,
   "id": "66fbb6eb",
   "metadata": {},
   "outputs": [
    {
     "data": {
      "text/plain": [
       "55.0"
      ]
     },
     "execution_count": 117,
     "metadata": {},
     "output_type": "execute_result"
    }
   ],
   "source": [
    "sum(10)"
   ]
  }
 ],
 "metadata": {
  "kernelspec": {
   "display_name": "Python 3 (ipykernel)",
   "language": "python",
   "name": "python3"
  },
  "language_info": {
   "codemirror_mode": {
    "name": "ipython",
    "version": 3
   },
   "file_extension": ".py",
   "mimetype": "text/x-python",
   "name": "python",
   "nbconvert_exporter": "python",
   "pygments_lexer": "ipython3",
   "version": "3.10.4"
  }
 },
 "nbformat": 4,
 "nbformat_minor": 5
}
