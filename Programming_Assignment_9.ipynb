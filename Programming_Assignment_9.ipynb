{
 "cells": [
  {
   "cell_type": "markdown",
   "id": "273ca8c2",
   "metadata": {},
   "source": [
    "1.\tWrite a Python program to check if the given number is a Disarium Number?"
   ]
  },
  {
   "cell_type": "code",
   "execution_count": 101,
   "id": "890fd404",
   "metadata": {},
   "outputs": [],
   "source": [
    "def disarium(num):\n",
    "    a=list(str(num))\n",
    "    b=[int(i) for i in a]\n",
    "    c=sum([b[j]**(j+1) for j in range(len(b))])\n",
    "    if(c==num):\n",
    "        return True\n",
    "    return False"
   ]
  },
  {
   "cell_type": "code",
   "execution_count": 30,
   "id": "d567bec0",
   "metadata": {},
   "outputs": [
    {
     "data": {
      "text/plain": [
       "True"
      ]
     },
     "execution_count": 30,
     "metadata": {},
     "output_type": "execute_result"
    }
   ],
   "source": [
    "disarium(175)"
   ]
  },
  {
   "cell_type": "code",
   "execution_count": 31,
   "id": "b9400ff5",
   "metadata": {},
   "outputs": [
    {
     "data": {
      "text/plain": [
       "False"
      ]
     },
     "execution_count": 31,
     "metadata": {},
     "output_type": "execute_result"
    }
   ],
   "source": [
    "disarium(35)"
   ]
  },
  {
   "cell_type": "markdown",
   "id": "c680a5bf",
   "metadata": {},
   "source": [
    "2. Write a Python program to print all disarium numbers between 1 to 100?"
   ]
  },
  {
   "cell_type": "code",
   "execution_count": 100,
   "id": "eee17262",
   "metadata": {},
   "outputs": [],
   "source": [
    "def disarium_interval(n):\n",
    "    a=[ disarium(i)  for i in range(1,n+1)]\n",
    "    b=[i for i in range(1,len(a)) if disarium(i)==True ]\n",
    "    \n",
    "    return b"
   ]
  },
  {
   "cell_type": "code",
   "execution_count": 102,
   "id": "5c2d95f5",
   "metadata": {},
   "outputs": [
    {
     "data": {
      "text/plain": [
       "[1, 2, 3, 4, 5, 6, 7, 8, 9, 89]"
      ]
     },
     "execution_count": 102,
     "metadata": {},
     "output_type": "execute_result"
    }
   ],
   "source": [
    "disarium_interval(100)"
   ]
  },
  {
   "cell_type": "markdown",
   "id": "c49bb213",
   "metadata": {},
   "source": [
    "3.\tWrite a Python program to check if the given number is Happy Number?"
   ]
  },
  {
   "cell_type": "code",
   "execution_count": 61,
   "id": "02800201",
   "metadata": {},
   "outputs": [],
   "source": [
    "def happy(n):\n",
    "    while len(str(n)) > 1:\n",
    "        n = sum(int(x)**2 for x in str(n))\n",
    "    return n == 1"
   ]
  },
  {
   "cell_type": "code",
   "execution_count": 64,
   "id": "0337e394",
   "metadata": {},
   "outputs": [
    {
     "data": {
      "text/plain": [
       "False"
      ]
     },
     "execution_count": 64,
     "metadata": {},
     "output_type": "execute_result"
    }
   ],
   "source": [
    "happy(18)"
   ]
  },
  {
   "cell_type": "code",
   "execution_count": 65,
   "id": "7595aa20",
   "metadata": {},
   "outputs": [
    {
     "data": {
      "text/plain": [
       "True"
      ]
     },
     "execution_count": 65,
     "metadata": {},
     "output_type": "execute_result"
    }
   ],
   "source": [
    "happy(19)"
   ]
  },
  {
   "cell_type": "markdown",
   "id": "a2289284",
   "metadata": {},
   "source": [
    "4.\tWrite a Python program to print all happy numbers between 1 and 100?"
   ]
  },
  {
   "cell_type": "code",
   "execution_count": 99,
   "id": "3ed8d3bb",
   "metadata": {},
   "outputs": [],
   "source": [
    "def happy_interval(n):\n",
    "    a=[ happy(i)  for i in range(1,n+1)]\n",
    "    b=[i for i in range(1,len(a)+1) if happy(i)==True ]\n",
    "    \n",
    "    return b"
   ]
  },
  {
   "cell_type": "code",
   "execution_count": 69,
   "id": "b776d7d8",
   "metadata": {},
   "outputs": [
    {
     "data": {
      "text/plain": [
       "[1, 10, 13, 19, 23, 28, 31, 32, 44, 49, 68, 70, 79, 82, 86, 91, 94, 97, 100]"
      ]
     },
     "execution_count": 69,
     "metadata": {},
     "output_type": "execute_result"
    }
   ],
   "source": [
    "happy_interval(100)"
   ]
  },
  {
   "cell_type": "markdown",
   "id": "863964a6",
   "metadata": {},
   "source": [
    "5.\tWrite a Python program to determine whether the given number is a Harshad Number?"
   ]
  },
  {
   "cell_type": "code",
   "execution_count": 77,
   "id": "511b6152",
   "metadata": {},
   "outputs": [],
   "source": [
    "def harshad(n):\n",
    "    a=list(str(n))\n",
    "    b=sum([int(i) for i in a])\n",
    "    if(n%b==0):\n",
    "        return True    \n",
    "    return False"
   ]
  },
  {
   "cell_type": "code",
   "execution_count": 98,
   "id": "a3e04271",
   "metadata": {},
   "outputs": [
    {
     "data": {
      "text/plain": [
       "True"
      ]
     },
     "execution_count": 98,
     "metadata": {},
     "output_type": "execute_result"
    }
   ],
   "source": [
    "harshad(12)"
   ]
  },
  {
   "cell_type": "code",
   "execution_count": 79,
   "id": "1e2a9c9f",
   "metadata": {},
   "outputs": [
    {
     "data": {
      "text/plain": [
       "False"
      ]
     },
     "execution_count": 79,
     "metadata": {},
     "output_type": "execute_result"
    }
   ],
   "source": [
    "harshad(13)"
   ]
  },
  {
   "cell_type": "markdown",
   "id": "749d3a76",
   "metadata": {},
   "source": [
    "6.\tWrite a Python program to print all pronic numbers between 1 and 100?"
   ]
  },
  {
   "cell_type": "code",
   "execution_count": 91,
   "id": "6305713c",
   "metadata": {},
   "outputs": [],
   "source": [
    "def is_pronic(n):\n",
    "    a=[i*(i+1) for i in range(15)]\n",
    "    if n in a:\n",
    "        return True   \n",
    "    return False\n"
   ]
  },
  {
   "cell_type": "code",
   "execution_count": 93,
   "id": "378be7da",
   "metadata": {},
   "outputs": [
    {
     "data": {
      "text/plain": [
       "True"
      ]
     },
     "execution_count": 93,
     "metadata": {},
     "output_type": "execute_result"
    }
   ],
   "source": [
    "is_pronic(20)"
   ]
  },
  {
   "cell_type": "code",
   "execution_count": 94,
   "id": "c1da7fff",
   "metadata": {},
   "outputs": [],
   "source": [
    "def pronic_interval(n):\n",
    "    a=[ is_pronic(i)  for i in range(1,n+1)]\n",
    "    b=[i for i in range(1,len(a)+1) if is_pronic(i)==True ]\n",
    "    \n",
    "    return b"
   ]
  },
  {
   "cell_type": "code",
   "execution_count": 97,
   "id": "2bbebd06",
   "metadata": {},
   "outputs": [
    {
     "data": {
      "text/plain": [
       "[2, 6, 12, 20, 30, 42, 56, 72, 90]"
      ]
     },
     "execution_count": 97,
     "metadata": {},
     "output_type": "execute_result"
    }
   ],
   "source": [
    "pronic_interval(100)"
   ]
  }
 ],
 "metadata": {
  "kernelspec": {
   "display_name": "Python 3 (ipykernel)",
   "language": "python",
   "name": "python3"
  },
  "language_info": {
   "codemirror_mode": {
    "name": "ipython",
    "version": 3
   },
   "file_extension": ".py",
   "mimetype": "text/x-python",
   "name": "python",
   "nbconvert_exporter": "python",
   "pygments_lexer": "ipython3",
   "version": "3.10.4"
  }
 },
 "nbformat": 4,
 "nbformat_minor": 5
}
