{
 "cells": [
  {
   "cell_type": "markdown",
   "id": "0160cc55",
   "metadata": {},
   "source": [
    "1.\tWrite a Python Program to Add Two Matrices?"
   ]
  },
  {
   "cell_type": "code",
   "execution_count": 5,
   "id": "a5850b7f",
   "metadata": {},
   "outputs": [
    {
     "data": {
      "text/plain": [
       "array([[ 0.,  2.,  4.],\n",
       "       [ 3.,  5.,  7.],\n",
       "       [ 6.,  8., 10.]])"
      ]
     },
     "execution_count": 5,
     "metadata": {},
     "output_type": "execute_result"
    }
   ],
   "source": [
    "import numpy as np\n",
    "x1 = np.arange(9.0).reshape((3, 3))\n",
    "x2 = np.arange(3.0)\n",
    "def add(x1,x2):\n",
    "    return np.add(x1, x2)\n",
    "add(x1,x2)"
   ]
  },
  {
   "cell_type": "markdown",
   "id": "15e55117",
   "metadata": {},
   "source": [
    "2.\tWrite a Python Program to Multiply Two Matrices?"
   ]
  },
  {
   "cell_type": "code",
   "execution_count": 6,
   "id": "410e7c26",
   "metadata": {},
   "outputs": [
    {
     "data": {
      "text/plain": [
       "array([[4, 1],\n",
       "       [2, 2]])"
      ]
     },
     "execution_count": 6,
     "metadata": {},
     "output_type": "execute_result"
    }
   ],
   "source": [
    "a = np.array([[1, 0],\n",
    "              [0, 1]])\n",
    "b = np.array([[4, 1],\n",
    "              [2, 2]])\n",
    "def multiply(x1,x2):\n",
    "    return np.matmul(a, b)\n",
    "multiply(a,b)"
   ]
  },
  {
   "cell_type": "markdown",
   "id": "472c7c29",
   "metadata": {},
   "source": [
    "3.\tWrite a Python Program to Transpose a Matrix?"
   ]
  },
  {
   "cell_type": "code",
   "execution_count": 9,
   "id": "2abfa18a",
   "metadata": {},
   "outputs": [
    {
     "data": {
      "text/plain": [
       "array([[0, 2],\n",
       "       [1, 3]])"
      ]
     },
     "execution_count": 9,
     "metadata": {},
     "output_type": "execute_result"
    }
   ],
   "source": [
    "x = np.arange(4).reshape((2,2))\n",
    "def transpose(x):\n",
    "    return np.transpose(x)\n",
    "transpose(x)"
   ]
  },
  {
   "cell_type": "markdown",
   "id": "a774e140",
   "metadata": {},
   "source": [
    "4.\tWrite a Python Program to Sort Words in Alphabetic Order?"
   ]
  },
  {
   "cell_type": "code",
   "execution_count": 12,
   "id": "3a845648",
   "metadata": {},
   "outputs": [],
   "source": [
    "def sort_words(str):\n",
    "    str = input(\"Enter a string: \")  \n",
    "    words = str.split() \n",
    "    words.sort()  \n",
    "    for element in words:\n",
    "        print(element) "
   ]
  },
  {
   "cell_type": "code",
   "execution_count": 13,
   "id": "640f175d",
   "metadata": {},
   "outputs": [
    {
     "name": "stdout",
     "output_type": "stream",
     "text": [
      "Enter a string: I am a student of FSDS batch\n",
      "FSDS\n",
      "I\n",
      "a\n",
      "am\n",
      "batch\n",
      "of\n",
      "student\n"
     ]
    }
   ],
   "source": [
    "sort_words(str)"
   ]
  },
  {
   "cell_type": "markdown",
   "id": "e81c36e9",
   "metadata": {},
   "source": [
    "5.\tWrite a Python Program to Remove Punctuation From a String?"
   ]
  },
  {
   "cell_type": "code",
   "execution_count": 23,
   "id": "4f00276c",
   "metadata": {},
   "outputs": [],
   "source": [
    "def remove_punc(str):\n",
    "    punc='!\"#$%&\\'()*+,-./:;<=>?@[\\]^_`{|}~'\n",
    "    a=len(str)\n",
    "    while a>0:\n",
    "        for element in str:\n",
    "            if element in punc:\n",
    "                str=str.replace(element,'')\n",
    "            a=a-1\n",
    "            continue\n",
    "        return str"
   ]
  },
  {
   "cell_type": "code",
   "execution_count": 26,
   "id": "0dfc93f5",
   "metadata": {},
   "outputs": [
    {
     "data": {
      "text/plain": [
       "'I am a student of FSDS Batch'"
      ]
     },
     "execution_count": 26,
     "metadata": {},
     "output_type": "execute_result"
    }
   ],
   "source": [
    "remove_punc('I !am a /student of =FSDS ''Batch')"
   ]
  }
 ],
 "metadata": {
  "kernelspec": {
   "display_name": "Python 3 (ipykernel)",
   "language": "python",
   "name": "python3"
  },
  "language_info": {
   "codemirror_mode": {
    "name": "ipython",
    "version": 3
   },
   "file_extension": ".py",
   "mimetype": "text/x-python",
   "name": "python",
   "nbconvert_exporter": "python",
   "pygments_lexer": "ipython3",
   "version": "3.10.4"
  }
 },
 "nbformat": 4,
 "nbformat_minor": 5
}
