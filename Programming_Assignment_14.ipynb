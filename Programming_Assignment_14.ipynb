{
 "cells": [
  {
   "cell_type": "code",
   "execution_count": 3,
   "id": "137213f8",
   "metadata": {},
   "outputs": [],
   "source": [
    "#Question 1:Define a class with a generator which can iterate the numbers, which are divisible by 7, \n",
    "#between a given range 0 and n.\n"
   ]
  },
  {
   "cell_type": "code",
   "execution_count": 26,
   "id": "8b6344b6",
   "metadata": {},
   "outputs": [],
   "source": [
    "class generators:\n",
    "    def __init__(self,n):\n",
    "        self.n=n\n",
    "    def func1(self):\n",
    "        a=[i for i in range(self.n) if i%7==0]\n",
    "        yield a\n",
    "        \n",
    "      \n",
    "        \n",
    "        "
   ]
  },
  {
   "cell_type": "code",
   "execution_count": 29,
   "id": "197252f8",
   "metadata": {},
   "outputs": [],
   "source": [
    "b=generators(100)"
   ]
  },
  {
   "cell_type": "code",
   "execution_count": 30,
   "id": "93fd20af",
   "metadata": {},
   "outputs": [
    {
     "name": "stdout",
     "output_type": "stream",
     "text": [
      "[0, 7, 14, 21, 28, 35, 42, 49, 56, 63, 70, 77, 84, 91, 98]\n"
     ]
    }
   ],
   "source": [
    "c=b.func1()\n",
    "print(next(c))"
   ]
  },
  {
   "cell_type": "code",
   "execution_count": 32,
   "id": "24247c3a",
   "metadata": {},
   "outputs": [
    {
     "name": "stdout",
     "output_type": "stream",
     "text": [
      "[0, 7, 14, 21, 28, 35, 42, 49]\n"
     ]
    }
   ],
   "source": [
    "d=generators(50)\n",
    "f=d.func1()\n",
    "print(next(f))"
   ]
  },
  {
   "cell_type": "markdown",
   "id": "dfc928f7",
   "metadata": {},
   "source": [
    "Question 2:\n",
    "Write a program to compute the frequency of the words from the input. The output should output after sorting the key alphanumerically. \n",
    "\n",
    "Suppose the following input is supplied to the program:\n",
    "\n",
    "New to Python or choosing between Python 2 and Python 3? Read Python 2 or Python 3.\n",
    "\n",
    "Then, the output should be:\n",
    "\n",
    "2:2\n",
    "\n",
    "3.:1\n",
    "\n",
    "3?:1\n",
    "\n",
    "New:1\n",
    "\n",
    "Python:5\n",
    "\n",
    "Read:1\n",
    "\n",
    "and:1\n",
    "\n",
    "between:1\n",
    "\n",
    "choosing:1\n",
    "\n",
    "or:2\n",
    "\n",
    "to:1\n"
   ]
  },
  {
   "cell_type": "code",
   "execution_count": 87,
   "id": "127e7592",
   "metadata": {},
   "outputs": [],
   "source": [
    "def frequency_words(str):\n",
    "    str=\"New to Python or choosing between Python 2 and Python 3? Read Python 2 or Python 3\"\n",
    "    a=str.split(\" \")\n",
    "    b=sorted(a)\n",
    "    c=[b.count(i) for i in b]\n",
    "    d={b[j]:c[j] for j in range(len(c))}\n",
    "    for k,v in d.items():\n",
    "        print(k,v)\n",
    "     \n"
   ]
  },
  {
   "cell_type": "code",
   "execution_count": 88,
   "id": "35086884",
   "metadata": {},
   "outputs": [
    {
     "name": "stdout",
     "output_type": "stream",
     "text": [
      "2 2\n",
      "3 1\n",
      "3? 1\n",
      "New 1\n",
      "Python 5\n",
      "Read 1\n",
      "and 1\n",
      "between 1\n",
      "choosing 1\n",
      "or 2\n",
      "to 1\n"
     ]
    }
   ],
   "source": [
    "frequency_words(str)"
   ]
  },
  {
   "cell_type": "markdown",
   "id": "74aeef85",
   "metadata": {},
   "source": [
    "#Question 3:\n",
    "\n",
    "\n",
    "\n",
    "Define a class Person and its two child classes: Male and Female. All classes have a method \"getGender\" which can print \"Male\" for Male class and \"Female\" for Female class.\n"
   ]
  },
  {
   "cell_type": "code",
   "execution_count": 91,
   "id": "c127a8a4",
   "metadata": {},
   "outputs": [],
   "source": [
    "class Male:\n",
    "    def getGender(self):\n",
    "        print(\"Male\")\n",
    "class Female:\n",
    "    def getGender(self):\n",
    "        print(\"Female\") \n",
    "        \n",
    "class Person(Male,Female):\n",
    "    pass"
   ]
  },
  {
   "cell_type": "code",
   "execution_count": 97,
   "id": "1393bf97",
   "metadata": {},
   "outputs": [
    {
     "name": "stdout",
     "output_type": "stream",
     "text": [
      "Male\n"
     ]
    }
   ],
   "source": [
    "a=Male()\n",
    "a.getGender()\n"
   ]
  },
  {
   "cell_type": "code",
   "execution_count": 96,
   "id": "127441b8",
   "metadata": {},
   "outputs": [
    {
     "name": "stdout",
     "output_type": "stream",
     "text": [
      "Female\n"
     ]
    }
   ],
   "source": [
    "b=Female()\n",
    "b.getGender()"
   ]
  },
  {
   "cell_type": "code",
   "execution_count": 100,
   "id": "25625918",
   "metadata": {},
   "outputs": [
    {
     "name": "stdout",
     "output_type": "stream",
     "text": [
      "Male\n"
     ]
    }
   ],
   "source": [
    "c=Person()\n",
    "c.getGender() # Male class is given preference because of the order of Inheritance."
   ]
  },
  {
   "cell_type": "code",
   "execution_count": 101,
   "id": "5fd67a86",
   "metadata": {},
   "outputs": [],
   "source": [
    "class Male:\n",
    "    def getGender(self):\n",
    "        print(\"Male\")\n",
    "class Female:\n",
    "    def getGender(self):\n",
    "        print(\"Female\") \n",
    "        \n",
    "class Person(Female,Male):\n",
    "    pass"
   ]
  },
  {
   "cell_type": "code",
   "execution_count": 102,
   "id": "92b98082",
   "metadata": {},
   "outputs": [
    {
     "name": "stdout",
     "output_type": "stream",
     "text": [
      "Female\n"
     ]
    }
   ],
   "source": [
    "d=Person()\n",
    "d.getGender()"
   ]
  },
  {
   "cell_type": "markdown",
   "id": "4553d6d4",
   "metadata": {},
   "source": [
    "Question 4:\n",
    "Please write a program to generate all sentences where subject is in [\"I\", \"You\"] and verb is in [\"Play\", \"Love\"] and the object is in [\"Hockey\",\"Football\"].\n"
   ]
  },
  {
   "cell_type": "code",
   "execution_count": 112,
   "id": "4baebc8e",
   "metadata": {},
   "outputs": [
    {
     "data": {
      "text/plain": [
       "['I Play Hockey', 'I Love Hockey', 'You Play Football', 'You Love Football']"
      ]
     },
     "execution_count": 112,
     "metadata": {},
     "output_type": "execute_result"
    }
   ],
   "source": [
    "a=[\"I\", \"You\"] \n",
    "b=[\"Play\", \"Love\"]\n",
    "c=[\"Hockey\",\"Football\"]\n",
    "d=[a[0]+\" \"+b[i]+\" \"+c[0] for i in range(2)]\n",
    "e=[a[1]+\" \"+b[i]+\" \"+c[1] for i in range(2)]\n",
    "f=d+e\n",
    "f"
   ]
  },
  {
   "cell_type": "markdown",
   "id": "f44ac80e",
   "metadata": {},
   "source": [
    "Question 5:\n",
    "Please write a program to compress and decompress the string \"hello world!hello world!hello world!hello world!\".\n"
   ]
  },
  {
   "cell_type": "code",
   "execution_count": 116,
   "id": "d8944956",
   "metadata": {},
   "outputs": [
    {
     "name": "stdout",
     "output_type": "stream",
     "text": [
      "b'x\\x9c\\xcbH\\xcd\\xc9\\xc9W(\\xcf/\\xcaIQ\\xcc \\x82\\r\\x00\\xbd[\\x11\\xf5'\n",
      "hello world!hello world!hello world!hello world!\n"
     ]
    }
   ],
   "source": [
    "import zlib\n",
    "\n",
    "a = \"hello world!hello world!hello world!hello world!\"\n",
    "a = zlib.compress(a.encode())\n",
    "print(a)\n",
    "print(zlib.decompress(a).decode())"
   ]
  },
  {
   "cell_type": "markdown",
   "id": "49b02c15",
   "metadata": {},
   "source": [
    "Question 6:\n",
    "Please write a binary search function which searches an item in a sorted list. The function should return the index of element to be searched in the list.\n"
   ]
  },
  {
   "cell_type": "code",
   "execution_count": 137,
   "id": "7d433f35",
   "metadata": {},
   "outputs": [],
   "source": [
    "def binary_search(data,target,low,high):\n",
    "    if low>high:\n",
    "        return data.index(target)\n",
    "    else:\n",
    "        mid=(low+high)//2\n",
    "        if target==data[mid]:\n",
    "            return mid\n",
    "        elif(target<data[mid]):\n",
    "            return binary_search(data,target,low,mid-1)\n",
    "        else:\n",
    "            return binary_search(data,target,mid+1,high)\n",
    "            "
   ]
  },
  {
   "cell_type": "code",
   "execution_count": 138,
   "id": "6ae9bb25",
   "metadata": {},
   "outputs": [
    {
     "data": {
      "text/plain": [
       "3"
      ]
     },
     "execution_count": 138,
     "metadata": {},
     "output_type": "execute_result"
    }
   ],
   "source": [
    "binary_search([1,2,3,4,5,6,7],4,0,6)"
   ]
  },
  {
   "cell_type": "code",
   "execution_count": 139,
   "id": "02fc13fe",
   "metadata": {},
   "outputs": [
    {
     "data": {
      "text/plain": [
       "1"
      ]
     },
     "execution_count": 139,
     "metadata": {},
     "output_type": "execute_result"
    }
   ],
   "source": [
    "binary_search([1,2,3,4,5,6,7],2,0,6)"
   ]
  },
  {
   "cell_type": "code",
   "execution_count": 140,
   "id": "98b978cb",
   "metadata": {},
   "outputs": [
    {
     "data": {
      "text/plain": [
       "5"
      ]
     },
     "execution_count": 140,
     "metadata": {},
     "output_type": "execute_result"
    }
   ],
   "source": [
    "binary_search([1,2,3,4,5,6,7],6,0,6)"
   ]
  }
 ],
 "metadata": {
  "kernelspec": {
   "display_name": "Python 3 (ipykernel)",
   "language": "python",
   "name": "python3"
  },
  "language_info": {
   "codemirror_mode": {
    "name": "ipython",
    "version": 3
   },
   "file_extension": ".py",
   "mimetype": "text/x-python",
   "name": "python",
   "nbconvert_exporter": "python",
   "pygments_lexer": "ipython3",
   "version": "3.10.4"
  }
 },
 "nbformat": 4,
 "nbformat_minor": 5
}
