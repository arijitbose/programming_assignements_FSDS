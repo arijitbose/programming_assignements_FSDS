{
 "cells": [
  {
   "cell_type": "code",
   "execution_count": 1,
   "id": "c60bc48e",
   "metadata": {},
   "outputs": [],
   "source": [
    "#1.Write a Python program to find words which are greater than given length k?"
   ]
  },
  {
   "cell_type": "code",
   "execution_count": 14,
   "id": "6e5de193",
   "metadata": {},
   "outputs": [],
   "source": [
    "def greater_k(str,k):\n",
    "    a=len(list(str))\n",
    "    if(a>k):\n",
    "        return \"Input word is greater than length {}\".format(k)\n",
    "    return \"Input word is not greater than length {}\".format(k)\n",
    "    "
   ]
  },
  {
   "cell_type": "code",
   "execution_count": 15,
   "id": "bcb323b3",
   "metadata": {},
   "outputs": [
    {
     "data": {
      "text/plain": [
       "'Input word is not greater than length 7'"
      ]
     },
     "execution_count": 15,
     "metadata": {},
     "output_type": "execute_result"
    }
   ],
   "source": [
    "greater_k('arijit',7)"
   ]
  },
  {
   "cell_type": "code",
   "execution_count": 17,
   "id": "e75226d0",
   "metadata": {},
   "outputs": [
    {
     "data": {
      "text/plain": [
       "'Input word is greater than length 1'"
      ]
     },
     "execution_count": 17,
     "metadata": {},
     "output_type": "execute_result"
    }
   ],
   "source": [
    "greater_k('bose',1)"
   ]
  },
  {
   "cell_type": "code",
   "execution_count": 18,
   "id": "95cf3dfd",
   "metadata": {},
   "outputs": [],
   "source": [
    "#2.Write a Python program for removing i-th character from a string?"
   ]
  },
  {
   "cell_type": "code",
   "execution_count": 27,
   "id": "a6ba93a3",
   "metadata": {},
   "outputs": [],
   "source": [
    "def remove_ith(str,i):\n",
    "    a=list(str)\n",
    "    b=len(a)\n",
    "    for character in a:\n",
    "        if(a.index(character)==i):\n",
    "            new_str = str.replace(character, \"\")\n",
    "            return new_str\n",
    "    return \"character not found\"\n",
    "            "
   ]
  },
  {
   "cell_type": "code",
   "execution_count": 28,
   "id": "0744b980",
   "metadata": {},
   "outputs": [
    {
     "data": {
      "text/plain": [
       "'ariit'"
      ]
     },
     "execution_count": 28,
     "metadata": {},
     "output_type": "execute_result"
    }
   ],
   "source": [
    "remove_ith(\"arijit\",3)"
   ]
  },
  {
   "cell_type": "code",
   "execution_count": 29,
   "id": "dd864116",
   "metadata": {},
   "outputs": [
    {
     "data": {
      "text/plain": [
       "'aijit'"
      ]
     },
     "execution_count": 29,
     "metadata": {},
     "output_type": "execute_result"
    }
   ],
   "source": [
    "remove_ith(\"arijit\",1)"
   ]
  },
  {
   "cell_type": "code",
   "execution_count": 30,
   "id": "1e6cd241",
   "metadata": {},
   "outputs": [
    {
     "data": {
      "text/plain": [
       "'character not found'"
      ]
     },
     "execution_count": 30,
     "metadata": {},
     "output_type": "execute_result"
    }
   ],
   "source": [
    "remove_ith(\"arijit\",10)"
   ]
  },
  {
   "cell_type": "code",
   "execution_count": 31,
   "id": "fe2ed019",
   "metadata": {},
   "outputs": [],
   "source": [
    "#3.Write a Python program to split and join a string?"
   ]
  },
  {
   "cell_type": "code",
   "execution_count": 34,
   "id": "f0b8d0ab",
   "metadata": {},
   "outputs": [],
   "source": [
    "def split_str(str):\n",
    "    return str.split(\" \")"
   ]
  },
  {
   "cell_type": "code",
   "execution_count": 35,
   "id": "2a8b5f6b",
   "metadata": {},
   "outputs": [
    {
     "data": {
      "text/plain": [
       "['Arijit', 'Bose']"
      ]
     },
     "execution_count": 35,
     "metadata": {},
     "output_type": "execute_result"
    }
   ],
   "source": [
    "split_str(\"Arijit Bose\")"
   ]
  },
  {
   "cell_type": "code",
   "execution_count": 38,
   "id": "4196cf40",
   "metadata": {},
   "outputs": [],
   "source": [
    "def join_str(str):\n",
    "    return \" \".join(str)"
   ]
  },
  {
   "cell_type": "code",
   "execution_count": 39,
   "id": "8e6609b7",
   "metadata": {},
   "outputs": [
    {
     "data": {
      "text/plain": [
       "'A r i j i t   B o s e'"
      ]
     },
     "execution_count": 39,
     "metadata": {},
     "output_type": "execute_result"
    }
   ],
   "source": [
    "join_str(\"Arijit Bose\")"
   ]
  },
  {
   "cell_type": "code",
   "execution_count": 40,
   "id": "4d0f9009",
   "metadata": {},
   "outputs": [],
   "source": [
    "#4.Write a Python to check if a given string is binary string or not?"
   ]
  },
  {
   "cell_type": "code",
   "execution_count": 83,
   "id": "f390ebb2",
   "metadata": {},
   "outputs": [],
   "source": [
    "def is_binary(str):\n",
    "    try:\n",
    "        a=list(str)\n",
    "        b=\"\".join(a)\n",
    "        value = int(b, 2)\n",
    "        if(type(value)==int):\n",
    "            print(value)\n",
    "            return \"given string is binary string\"            \n",
    "        \n",
    "    except ValueError as e:\n",
    "        print(e)\n",
    "        return \"given string is not binary string\"\n",
    "\n",
    "\n",
    "    "
   ]
  },
  {
   "cell_type": "code",
   "execution_count": 84,
   "id": "9c76b6ea",
   "metadata": {},
   "outputs": [
    {
     "name": "stdout",
     "output_type": "stream",
     "text": [
      "5\n"
     ]
    },
    {
     "data": {
      "text/plain": [
       "'given string is binary string'"
      ]
     },
     "execution_count": 84,
     "metadata": {},
     "output_type": "execute_result"
    }
   ],
   "source": [
    "is_binary('0b101')"
   ]
  },
  {
   "cell_type": "code",
   "execution_count": 87,
   "id": "d2660e92",
   "metadata": {},
   "outputs": [
    {
     "name": "stdout",
     "output_type": "stream",
     "text": [
      "23\n"
     ]
    },
    {
     "data": {
      "text/plain": [
       "'given string is binary string'"
      ]
     },
     "execution_count": 87,
     "metadata": {},
     "output_type": "execute_result"
    }
   ],
   "source": [
    "is_binary('10111')"
   ]
  },
  {
   "cell_type": "code",
   "execution_count": 85,
   "id": "ebd8090c",
   "metadata": {},
   "outputs": [
    {
     "name": "stdout",
     "output_type": "stream",
     "text": [
      "invalid literal for int() with base 2: '0c101d'\n"
     ]
    },
    {
     "data": {
      "text/plain": [
       "'given string is not binary string'"
      ]
     },
     "execution_count": 85,
     "metadata": {},
     "output_type": "execute_result"
    }
   ],
   "source": [
    "is_binary('0c101d')"
   ]
  },
  {
   "cell_type": "code",
   "execution_count": 88,
   "id": "9f83558e",
   "metadata": {},
   "outputs": [],
   "source": [
    "#5.Write a Python program to find uncommon words from two Strings?"
   ]
  },
  {
   "cell_type": "code",
   "execution_count": 137,
   "id": "4956aacd",
   "metadata": {},
   "outputs": [],
   "source": [
    "def uncommon(str1,str2):\n",
    "    a=str1.split()\n",
    "    b=str2.split()\n",
    "    c=len(a)\n",
    "    d=len(b)\n",
    "    for i in a:\n",
    "        for j in b:\n",
    "            if(i!=j):\n",
    "                print(j)\n",
    "           \n",
    "    "
   ]
  },
  {
   "cell_type": "code",
   "execution_count": 138,
   "id": "a152047c",
   "metadata": {},
   "outputs": [
    {
     "name": "stdout",
     "output_type": "stream",
     "text": [
      "Arijit\n"
     ]
    }
   ],
   "source": [
    "uncommon(\"Arijit Bose\",\"Arijit\")"
   ]
  },
  {
   "cell_type": "code",
   "execution_count": 133,
   "id": "f0cb586a",
   "metadata": {},
   "outputs": [
    {
     "name": "stdout",
     "output_type": "stream",
     "text": [
      "Arijit\n"
     ]
    }
   ],
   "source": [
    "uncommon(\"Arijit Bose\",\"Arijit\")"
   ]
  },
  {
   "cell_type": "code",
   "execution_count": 139,
   "id": "5441466c",
   "metadata": {},
   "outputs": [],
   "source": [
    "#6.Write a Python to find all duplicate characters in string?"
   ]
  },
  {
   "cell_type": "code",
   "execution_count": 150,
   "id": "2b3872b0",
   "metadata": {},
   "outputs": [],
   "source": [
    "def duplicate(str):\n",
    "    a=list(str)\n",
    "    b=set([element for element in a if a.count(element)>=2])\n",
    "    return b\n",
    "\n",
    "        "
   ]
  },
  {
   "cell_type": "code",
   "execution_count": 153,
   "id": "13c2c569",
   "metadata": {},
   "outputs": [
    {
     "data": {
      "text/plain": [
       "{'i'}"
      ]
     },
     "execution_count": 153,
     "metadata": {},
     "output_type": "execute_result"
    }
   ],
   "source": [
    "duplicate('Arijit')"
   ]
  },
  {
   "cell_type": "code",
   "execution_count": 154,
   "id": "3bf82edf",
   "metadata": {},
   "outputs": [
    {
     "data": {
      "text/plain": [
       "{'A', 'i', 'j', 'r', 't'}"
      ]
     },
     "execution_count": 154,
     "metadata": {},
     "output_type": "execute_result"
    }
   ],
   "source": [
    "duplicate('Arijit Arijit')"
   ]
  },
  {
   "cell_type": "code",
   "execution_count": 156,
   "id": "d23d1a97",
   "metadata": {},
   "outputs": [],
   "source": [
    "#7.Write a Python Program to check if a string contains any special character?"
   ]
  },
  {
   "cell_type": "code",
   "execution_count": 192,
   "id": "b3721351",
   "metadata": {},
   "outputs": [],
   "source": [
    "import re\n",
    "\n",
    "def check_special_characer(str):\n",
    "    regex= re.compile('[@_!#$%^&*()<>?/\\\\\\|}{~:[\\]]')\n",
    "    if(regex.search(str) == None):\n",
    "        res = \"String does not contain special character\"\n",
    "    else: \n",
    "        res = \"String does contain special character\"\n",
    "    return res\n",
    "\n"
   ]
  },
  {
   "cell_type": "code",
   "execution_count": 193,
   "id": "3ace5ce4",
   "metadata": {},
   "outputs": [
    {
     "data": {
      "text/plain": [
       "'String does not contain special character'"
      ]
     },
     "execution_count": 193,
     "metadata": {},
     "output_type": "execute_result"
    }
   ],
   "source": [
    "check_special_characer(\"Arijit\")"
   ]
  },
  {
   "cell_type": "code",
   "execution_count": 194,
   "id": "8573320c",
   "metadata": {},
   "outputs": [
    {
     "data": {
      "text/plain": [
       "'String does contain special character'"
      ]
     },
     "execution_count": 194,
     "metadata": {},
     "output_type": "execute_result"
    }
   ],
   "source": [
    "check_special_characer(\"Arijit!\")"
   ]
  }
 ],
 "metadata": {
  "kernelspec": {
   "display_name": "Python 3 (ipykernel)",
   "language": "python",
   "name": "python3"
  },
  "language_info": {
   "codemirror_mode": {
    "name": "ipython",
    "version": 3
   },
   "file_extension": ".py",
   "mimetype": "text/x-python",
   "name": "python",
   "nbconvert_exporter": "python",
   "pygments_lexer": "ipython3",
   "version": "3.10.4"
  }
 },
 "nbformat": 4,
 "nbformat_minor": 5
}
