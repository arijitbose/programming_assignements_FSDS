{
 "cells": [
  {
   "cell_type": "markdown",
   "id": "8c2913a4",
   "metadata": {},
   "source": [
    "Question1. Create a function that takes three arguments a, b, c and returns the sum of the numbers that are evenly divided by c from the range a, b inclusive.\n",
    "\n",
    "Examples\n",
    "\n",
    "evenly_divisible(1, 10, 20) ➞ 0\n",
    "#No number between 1 and 10 can be evenly divided by 20.\n",
    "\n",
    "evenly_divisible(1, 10, 2) ➞ 30\n",
    "#2 + 4 + 6 + 8 + 10 = 30\n",
    "\n",
    "evenly_divisible(1, 10, 3) ➞ 18\n",
    "#3 + 6 + 9 = 18\n"
   ]
  },
  {
   "cell_type": "code",
   "execution_count": 5,
   "id": "12530564",
   "metadata": {},
   "outputs": [],
   "source": [
    "def evenly_divisible(a,b,c):\n",
    "    a=sum([i if i%c==0 else 0 for i in range(a,b+1) ])\n",
    "    return a"
   ]
  },
  {
   "cell_type": "code",
   "execution_count": 6,
   "id": "5e04df73",
   "metadata": {},
   "outputs": [
    {
     "data": {
      "text/plain": [
       "0"
      ]
     },
     "execution_count": 6,
     "metadata": {},
     "output_type": "execute_result"
    }
   ],
   "source": [
    "evenly_divisible(1, 10, 20)"
   ]
  },
  {
   "cell_type": "code",
   "execution_count": 7,
   "id": "f53b9693",
   "metadata": {},
   "outputs": [
    {
     "data": {
      "text/plain": [
       "30"
      ]
     },
     "execution_count": 7,
     "metadata": {},
     "output_type": "execute_result"
    }
   ],
   "source": [
    "evenly_divisible(1, 10, 2)"
   ]
  },
  {
   "cell_type": "code",
   "execution_count": 8,
   "id": "6c9ffafb",
   "metadata": {},
   "outputs": [
    {
     "data": {
      "text/plain": [
       "18"
      ]
     },
     "execution_count": 8,
     "metadata": {},
     "output_type": "execute_result"
    }
   ],
   "source": [
    "evenly_divisible(1, 10, 3)"
   ]
  },
  {
   "cell_type": "markdown",
   "id": "ee1aee5e",
   "metadata": {},
   "source": [
    "Question2. Create a function that returns True if a given inequality expression is correct and False otherwise.\n",
    "\n",
    "Examples\n",
    "\n",
    "correct_signs(\"3 < 7 < 11\") ➞ True\n",
    "\n",
    "correct_signs(\"13 > 44 > 33 > 1\") ➞ False\n",
    "\n",
    "correct_signs(\"1 < 2 < 6 < 9 > 3\") ➞ True\n"
   ]
  },
  {
   "cell_type": "code",
   "execution_count": 31,
   "id": "66979d11",
   "metadata": {},
   "outputs": [],
   "source": [
    "def correct_signs(str):    \n",
    "    lst = [int(i) if i.isdigit() else i for i in str.split()]\n",
    "  \n",
    "    for i in range(0,len(lst)-2,2):\n",
    "        if lst[i+1] == '>':\n",
    "            if lst[i] <= lst[i+2]:\n",
    "                return False\n",
    "        elif lst[i+1] == '<':\n",
    "            if lst[i] >= lst[i+2]:\n",
    "                return False\n",
    "    return True\n"
   ]
  },
  {
   "cell_type": "code",
   "execution_count": 32,
   "id": "6e5ec3c5",
   "metadata": {},
   "outputs": [
    {
     "data": {
      "text/plain": [
       "True"
      ]
     },
     "execution_count": 32,
     "metadata": {},
     "output_type": "execute_result"
    }
   ],
   "source": [
    "correct_signs(\"3 < 7 < 11\")"
   ]
  },
  {
   "cell_type": "code",
   "execution_count": 33,
   "id": "0cc58d6a",
   "metadata": {},
   "outputs": [
    {
     "data": {
      "text/plain": [
       "False"
      ]
     },
     "execution_count": 33,
     "metadata": {},
     "output_type": "execute_result"
    }
   ],
   "source": [
    "correct_signs(\"13 > 44 > 33 > 1\")"
   ]
  },
  {
   "cell_type": "code",
   "execution_count": 30,
   "id": "dcdf77b1",
   "metadata": {},
   "outputs": [
    {
     "data": {
      "text/plain": [
       "True"
      ]
     },
     "execution_count": 30,
     "metadata": {},
     "output_type": "execute_result"
    }
   ],
   "source": [
    "correct_signs(\"1 < 2 < 6 < 9 > 3\")"
   ]
  },
  {
   "cell_type": "markdown",
   "id": "b2110ca4",
   "metadata": {},
   "source": [
    "Question3. Create a function that replaces all the vowels in a string with a specified character.\n",
    "\n",
    "Examples\n",
    "\n",
    "replace_vowels(\"the aardvark\", \"#\") ➞ \"th# ##rdv#rk\"\n",
    "\n",
    "replace_vowels(\"minnie mouse\", \"?\") ➞ \"m?nn?? m??s?\"\n",
    "\n",
    "replace_vowels(\"shakespeare\", \"*\") ➞ \"sh*k*sp**r*\"\n"
   ]
  },
  {
   "cell_type": "code",
   "execution_count": 34,
   "id": "76d8bc01",
   "metadata": {},
   "outputs": [],
   "source": [
    "def replace_vowels(str,char):\n",
    "    vowels=\"aeiouAEIOU\"\n",
    "    for element in str:\n",
    "        if element in vowels:\n",
    "            str=str.replace(element,char)\n",
    "    return str        "
   ]
  },
  {
   "cell_type": "code",
   "execution_count": 35,
   "id": "3ad9ad5e",
   "metadata": {},
   "outputs": [
    {
     "data": {
      "text/plain": [
       "'th# ##rdv#rk'"
      ]
     },
     "execution_count": 35,
     "metadata": {},
     "output_type": "execute_result"
    }
   ],
   "source": [
    "replace_vowels(\"the aardvark\", \"#\")"
   ]
  },
  {
   "cell_type": "code",
   "execution_count": 36,
   "id": "80da6d6e",
   "metadata": {},
   "outputs": [
    {
     "data": {
      "text/plain": [
       "'m?nn?? m??s?'"
      ]
     },
     "execution_count": 36,
     "metadata": {},
     "output_type": "execute_result"
    }
   ],
   "source": [
    "replace_vowels(\"minnie mouse\", \"?\")"
   ]
  },
  {
   "cell_type": "code",
   "execution_count": 37,
   "id": "f2ab4c62",
   "metadata": {},
   "outputs": [
    {
     "data": {
      "text/plain": [
       "'sh*k*sp**r*'"
      ]
     },
     "execution_count": 37,
     "metadata": {},
     "output_type": "execute_result"
    }
   ],
   "source": [
    "replace_vowels(\"shakespeare\", \"*\")"
   ]
  },
  {
   "cell_type": "markdown",
   "id": "47a30c79",
   "metadata": {},
   "source": [
    "Question4. Write a function that calculates the factorial of a number recursively.\n",
    "Examples\n",
    "factorial(5) ➞ 120\n",
    "\n",
    "factorial(3) ➞ 6\n",
    "\n",
    "factorial(1) ➞ 1\n",
    "\n",
    "factorial(0) ➞ 1\n"
   ]
  },
  {
   "cell_type": "code",
   "execution_count": 38,
   "id": "4fcd4a44",
   "metadata": {},
   "outputs": [],
   "source": [
    "def factorial(n):\n",
    "    if n==0 or n==1:\n",
    "        return 1\n",
    "    else:\n",
    "        return n*factorial(n-1)"
   ]
  },
  {
   "cell_type": "code",
   "execution_count": 39,
   "id": "623f5426",
   "metadata": {},
   "outputs": [
    {
     "data": {
      "text/plain": [
       "120"
      ]
     },
     "execution_count": 39,
     "metadata": {},
     "output_type": "execute_result"
    }
   ],
   "source": [
    "factorial(5)"
   ]
  },
  {
   "cell_type": "code",
   "execution_count": 40,
   "id": "a09e4f52",
   "metadata": {},
   "outputs": [
    {
     "data": {
      "text/plain": [
       "6"
      ]
     },
     "execution_count": 40,
     "metadata": {},
     "output_type": "execute_result"
    }
   ],
   "source": [
    "factorial(3) "
   ]
  },
  {
   "cell_type": "code",
   "execution_count": 41,
   "id": "f102311b",
   "metadata": {},
   "outputs": [
    {
     "data": {
      "text/plain": [
       "1"
      ]
     },
     "execution_count": 41,
     "metadata": {},
     "output_type": "execute_result"
    }
   ],
   "source": [
    "factorial(1) "
   ]
  },
  {
   "cell_type": "code",
   "execution_count": 42,
   "id": "3df771a7",
   "metadata": {},
   "outputs": [
    {
     "data": {
      "text/plain": [
       "1"
      ]
     },
     "execution_count": 42,
     "metadata": {},
     "output_type": "execute_result"
    }
   ],
   "source": [
    "factorial(0)"
   ]
  },
  {
   "cell_type": "markdown",
   "id": "5d04abc0",
   "metadata": {},
   "source": [
    "Question 5\n",
    "Hamming distance is the number of characters that differ between two strings.\n",
    "\n",
    "To illustrate:\n",
    "String1: \"abcbba\"\n",
    "String2: \"abcbda\"\n",
    "\n",
    "Hamming Distance: 1 - \"b\" vs. \"d\" is the only difference.\n",
    "\n",
    "Create a function that computes the hamming distance between two strings.\n",
    "\n",
    "Examples\n",
    "\n",
    "hamming_distance(\"abcde\", \"bcdef\") ➞ 5\n",
    "\n",
    "hamming_distance(\"abcde\", \"abcde\") ➞ 0\n",
    "\n",
    "hamming_distance(\"strong\", \"strung\") ➞ 1\n"
   ]
  },
  {
   "cell_type": "code",
   "execution_count": 121,
   "id": "43da88b1",
   "metadata": {},
   "outputs": [],
   "source": [
    "def hamming_distance(str1,str2):\n",
    "    i = 0\n",
    "    sum = 0\n",
    " \n",
    "    while(i<len(str1)):\n",
    "        if(str1[i]!=str2[i]):\n",
    "            sum =sum+ 1\n",
    "        i = i+1\n",
    "    return sum\n",
    "             "
   ]
  },
  {
   "cell_type": "code",
   "execution_count": 122,
   "id": "f5997272",
   "metadata": {},
   "outputs": [
    {
     "data": {
      "text/plain": [
       "5"
      ]
     },
     "execution_count": 122,
     "metadata": {},
     "output_type": "execute_result"
    }
   ],
   "source": [
    "hamming_distance(\"abcde\", \"bcdef\")"
   ]
  },
  {
   "cell_type": "code",
   "execution_count": 123,
   "id": "1f806e82",
   "metadata": {},
   "outputs": [
    {
     "data": {
      "text/plain": [
       "0"
      ]
     },
     "execution_count": 123,
     "metadata": {},
     "output_type": "execute_result"
    }
   ],
   "source": [
    "hamming_distance(\"abcde\", \"abcde\")"
   ]
  },
  {
   "cell_type": "code",
   "execution_count": 124,
   "id": "2e5a3179",
   "metadata": {},
   "outputs": [
    {
     "data": {
      "text/plain": [
       "1"
      ]
     },
     "execution_count": 124,
     "metadata": {},
     "output_type": "execute_result"
    }
   ],
   "source": [
    "hamming_distance(\"strong\", \"strung\")"
   ]
  }
 ],
 "metadata": {
  "kernelspec": {
   "display_name": "Python 3 (ipykernel)",
   "language": "python",
   "name": "python3"
  },
  "language_info": {
   "codemirror_mode": {
    "name": "ipython",
    "version": 3
   },
   "file_extension": ".py",
   "mimetype": "text/x-python",
   "name": "python",
   "nbconvert_exporter": "python",
   "pygments_lexer": "ipython3",
   "version": "3.10.4"
  }
 },
 "nbformat": 4,
 "nbformat_minor": 5
}
