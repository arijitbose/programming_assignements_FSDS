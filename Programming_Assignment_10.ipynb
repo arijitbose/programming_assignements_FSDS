{
 "cells": [
  {
   "cell_type": "markdown",
   "id": "16b8acdc",
   "metadata": {},
   "source": [
    "1.\tWrite a Python program to find sum of elements in list?\n",
    "\n"
   ]
  },
  {
   "cell_type": "code",
   "execution_count": 5,
   "id": "4cd8d118",
   "metadata": {},
   "outputs": [],
   "source": [
    "#1\n",
    "def sum_1(lst):\n",
    "    sum=0\n",
    "    for element in lst:\n",
    "        sum=sum+element\n",
    "    return sum"
   ]
  },
  {
   "cell_type": "code",
   "execution_count": 6,
   "id": "35958565",
   "metadata": {},
   "outputs": [
    {
     "data": {
      "text/plain": [
       "15"
      ]
     },
     "execution_count": 6,
     "metadata": {},
     "output_type": "execute_result"
    }
   ],
   "source": [
    "sum_1([1,2,3,4,5])"
   ]
  },
  {
   "cell_type": "markdown",
   "id": "d18bb029",
   "metadata": {},
   "source": [
    "2.\tWrite a Python program to  Multiply all numbers in the list?"
   ]
  },
  {
   "cell_type": "code",
   "execution_count": 7,
   "id": "1d4da0bd",
   "metadata": {},
   "outputs": [],
   "source": [
    "#2\n",
    "def product_1(lst):\n",
    "    prod=1\n",
    "    for element in lst:\n",
    "        prod=prod*element\n",
    "    return prod"
   ]
  },
  {
   "cell_type": "code",
   "execution_count": 9,
   "id": "8921ec62",
   "metadata": {},
   "outputs": [
    {
     "data": {
      "text/plain": [
       "120"
      ]
     },
     "execution_count": 9,
     "metadata": {},
     "output_type": "execute_result"
    }
   ],
   "source": [
    "product_1([1,2,3,4,5])"
   ]
  },
  {
   "cell_type": "markdown",
   "id": "9da28e76",
   "metadata": {},
   "source": [
    "3.\tWrite a Python program to find smallest number in a list?"
   ]
  },
  {
   "cell_type": "code",
   "execution_count": 10,
   "id": "2aebb382",
   "metadata": {},
   "outputs": [],
   "source": [
    "#3\n",
    "def min_list(lst):\n",
    "    a=min(lst)\n",
    "    return a"
   ]
  },
  {
   "cell_type": "code",
   "execution_count": 11,
   "id": "23a01bc5",
   "metadata": {},
   "outputs": [
    {
     "data": {
      "text/plain": [
       "1"
      ]
     },
     "execution_count": 11,
     "metadata": {},
     "output_type": "execute_result"
    }
   ],
   "source": [
    "min_list([1,2,3,4,5])"
   ]
  },
  {
   "cell_type": "markdown",
   "id": "ab00f3d7",
   "metadata": {},
   "source": [
    "4.\tWrite a Python program to find largest number in a list?"
   ]
  },
  {
   "cell_type": "code",
   "execution_count": 12,
   "id": "ff529bc6",
   "metadata": {},
   "outputs": [],
   "source": [
    "#4\n",
    "def max_list(lst):\n",
    "    a=max(lst)\n",
    "    return a"
   ]
  },
  {
   "cell_type": "code",
   "execution_count": 13,
   "id": "390af898",
   "metadata": {},
   "outputs": [
    {
     "data": {
      "text/plain": [
       "5"
      ]
     },
     "execution_count": 13,
     "metadata": {},
     "output_type": "execute_result"
    }
   ],
   "source": [
    "max_list([1,2,3,4,5])"
   ]
  },
  {
   "cell_type": "markdown",
   "id": "0b804e6f",
   "metadata": {},
   "source": [
    "5.\tWrite a Python program to find second largest number in a list?"
   ]
  },
  {
   "cell_type": "code",
   "execution_count": 22,
   "id": "5a8acc71",
   "metadata": {},
   "outputs": [],
   "source": [
    "#5\n",
    "def second_largest(lst):\n",
    "    a=sorted(lst)    \n",
    "    return a[-2]"
   ]
  },
  {
   "cell_type": "code",
   "execution_count": 23,
   "id": "dda06977",
   "metadata": {},
   "outputs": [
    {
     "data": {
      "text/plain": [
       "4"
      ]
     },
     "execution_count": 23,
     "metadata": {},
     "output_type": "execute_result"
    }
   ],
   "source": [
    "second_largest([1,2,3,4,5])"
   ]
  },
  {
   "cell_type": "code",
   "execution_count": 24,
   "id": "c3c3b4c6",
   "metadata": {},
   "outputs": [
    {
     "data": {
      "text/plain": [
       "3"
      ]
     },
     "execution_count": 24,
     "metadata": {},
     "output_type": "execute_result"
    }
   ],
   "source": [
    "second_largest([-1,2,3,4,-5])"
   ]
  },
  {
   "cell_type": "markdown",
   "id": "7685201e",
   "metadata": {},
   "source": [
    "6.\tWrite a Python program to find N largest elements from a list?"
   ]
  },
  {
   "cell_type": "code",
   "execution_count": 25,
   "id": "061d3d59",
   "metadata": {},
   "outputs": [],
   "source": [
    "#6\n",
    "def N_largest(lst,n):\n",
    "    a=sorted(lst)    \n",
    "    return a[-n]"
   ]
  },
  {
   "cell_type": "code",
   "execution_count": 28,
   "id": "4b64ee95",
   "metadata": {},
   "outputs": [
    {
     "data": {
      "text/plain": [
       "2"
      ]
     },
     "execution_count": 28,
     "metadata": {},
     "output_type": "execute_result"
    }
   ],
   "source": [
    "N_largest([-1,2,3,4,-5],3)"
   ]
  },
  {
   "cell_type": "markdown",
   "id": "88e0d8d0",
   "metadata": {},
   "source": [
    "7.\tWrite a Python program to print even numbers in a list?"
   ]
  },
  {
   "cell_type": "code",
   "execution_count": 31,
   "id": "05d4b1a6",
   "metadata": {},
   "outputs": [],
   "source": [
    "#7\n",
    "def even_nos(lst):\n",
    "    mylist=[]\n",
    "    for element in lst:\n",
    "        if(element%2==0):\n",
    "            mylist.append(element)\n",
    "    return mylist        "
   ]
  },
  {
   "cell_type": "code",
   "execution_count": 32,
   "id": "c6cbe5de",
   "metadata": {},
   "outputs": [
    {
     "data": {
      "text/plain": [
       "[2, 4]"
      ]
     },
     "execution_count": 32,
     "metadata": {},
     "output_type": "execute_result"
    }
   ],
   "source": [
    "even_nos([-1,2,3,4,-5])"
   ]
  },
  {
   "cell_type": "markdown",
   "id": "f330f1a0",
   "metadata": {},
   "source": [
    "8.\tWrite a Python program to print odd numbers in a List?"
   ]
  },
  {
   "cell_type": "code",
   "execution_count": 33,
   "id": "bf3b7d30",
   "metadata": {},
   "outputs": [],
   "source": [
    "# 8\n",
    "def odd_nos(lst):\n",
    "    mylist=[]\n",
    "    for element in lst:\n",
    "        if(element%2!=0):\n",
    "            mylist.append(element)\n",
    "    return mylist"
   ]
  },
  {
   "cell_type": "code",
   "execution_count": 35,
   "id": "ea77c7df",
   "metadata": {},
   "outputs": [
    {
     "data": {
      "text/plain": [
       "[1, 3, 5]"
      ]
     },
     "execution_count": 35,
     "metadata": {},
     "output_type": "execute_result"
    }
   ],
   "source": [
    "odd_nos([1,2,3,4,5])"
   ]
  },
  {
   "cell_type": "markdown",
   "id": "2b265388",
   "metadata": {},
   "source": [
    "9.\tWrite a Python program to Remove empty List from List?"
   ]
  },
  {
   "cell_type": "code",
   "execution_count": 38,
   "id": "0f62d946",
   "metadata": {},
   "outputs": [],
   "source": [
    "# 9\n",
    "def empty_remove(lst):\n",
    "    for element in lst:\n",
    "        if(element==[]):\n",
    "            lst.remove(element)\n",
    "            return lst     "
   ]
  },
  {
   "cell_type": "code",
   "execution_count": 39,
   "id": "2d8039da",
   "metadata": {},
   "outputs": [
    {
     "data": {
      "text/plain": [
       "[1, 2, 3, 4]"
      ]
     },
     "execution_count": 39,
     "metadata": {},
     "output_type": "execute_result"
    }
   ],
   "source": [
    "empty_remove([1,2,3,4,[]])"
   ]
  },
  {
   "cell_type": "markdown",
   "id": "9fd4ebe7",
   "metadata": {},
   "source": [
    "10.\tWrite a Python program to Cloning or Copying a list?\n"
   ]
  },
  {
   "cell_type": "code",
   "execution_count": 40,
   "id": "536e29ae",
   "metadata": {},
   "outputs": [],
   "source": [
    "#10\n",
    "def cloning_list(lst):\n",
    "    list_copy=lst[:]\n",
    "    return list_copy"
   ]
  },
  {
   "cell_type": "code",
   "execution_count": 41,
   "id": "2709f597",
   "metadata": {},
   "outputs": [
    {
     "data": {
      "text/plain": [
       "[1, 2, 3, 4, 5]"
      ]
     },
     "execution_count": 41,
     "metadata": {},
     "output_type": "execute_result"
    }
   ],
   "source": [
    "cloning_list([1,2,3,4,5])"
   ]
  },
  {
   "cell_type": "markdown",
   "id": "0c5d6925",
   "metadata": {},
   "source": [
    "11.\tWrite a Python program to Count occurrences of an element in a list"
   ]
  },
  {
   "cell_type": "code",
   "execution_count": 47,
   "id": "04a4bff2",
   "metadata": {},
   "outputs": [],
   "source": [
    "#11 \n",
    "def occurences_element(lst,n):\n",
    "    a=len(lst)\n",
    "    while a>0:\n",
    "        count=0\n",
    "        for element in lst:\n",
    "            if(element==n):\n",
    "                count +=1\n",
    "                a=a-1\n",
    "                continue\n",
    "        return count\n",
    "    "
   ]
  },
  {
   "cell_type": "code",
   "execution_count": 48,
   "id": "1cfa7e47",
   "metadata": {},
   "outputs": [
    {
     "data": {
      "text/plain": [
       "2"
      ]
     },
     "execution_count": 48,
     "metadata": {},
     "output_type": "execute_result"
    }
   ],
   "source": [
    "occurences_element([1,2,3,5,5],5)"
   ]
  }
 ],
 "metadata": {
  "kernelspec": {
   "display_name": "Python 3 (ipykernel)",
   "language": "python",
   "name": "python3"
  },
  "language_info": {
   "codemirror_mode": {
    "name": "ipython",
    "version": 3
   },
   "file_extension": ".py",
   "mimetype": "text/x-python",
   "name": "python",
   "nbconvert_exporter": "python",
   "pygments_lexer": "ipython3",
   "version": "3.10.4"
  }
 },
 "nbformat": 4,
 "nbformat_minor": 5
}
